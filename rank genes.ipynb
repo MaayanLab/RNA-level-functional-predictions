{
 "cells": [
  {
   "cell_type": "code",
   "execution_count": 30,
   "metadata": {},
   "outputs": [],
   "source": [
    "import h5py\n",
    "import numpy as np\n",
    "import pandas as pd"
   ]
  },
  {
   "cell_type": "code",
   "execution_count": 11,
   "metadata": {},
   "outputs": [],
   "source": [
    "f = h5py.File(\"gslib\", \"r+\")"
   ]
  },
  {
   "cell_type": "code",
   "execution_count": 39,
   "metadata": {},
   "outputs": [],
   "source": [
    "gslib = f['TCGA-MGI']\n",
    "genes = f['TCGA genes']\n",
    "mgi_pheno = f['mouse phenotypes']"
   ]
  },
  {
   "cell_type": "code",
   "execution_count": 49,
   "metadata": {},
   "outputs": [],
   "source": [
    "gene_list = np.array([ str(g[0])[2:-1] for g in genes ])\n",
    "phenotypes = np.array([ str(p[0])[2:-1] for p in mgi_pheno ])"
   ]
  },
  {
   "cell_type": "code",
   "execution_count": 65,
   "metadata": {},
   "outputs": [],
   "source": [
    "def rank_genes(gene, gslib, gene_list, phenotypes, rank):\n",
    "    row = np.where(gene_list == gene)[0][0]\n",
    "    tups = list(dict(zip(range(len(gslib[0])), gslib[row])).items())\n",
    "    tups.sort(key = lambda t: t[1], reverse = True)\n",
    "    top_rank = [ t[0] for t in tups[: rank] ]\n",
    "    top_pheno = [ phenotypes[i] for i in top_rank ]\n",
    "    return top_pheno"
   ]
  },
  {
   "cell_type": "code",
   "execution_count": 67,
   "metadata": {},
   "outputs": [
    {
     "data": {
      "text/plain": [
       "['MP:0013025 increased Ly6C low monocyte number',\n",
       " 'MP:0001902 reduced NMDA-mediated synaptic currents',\n",
       " 'MP:0006207 embryonic lethality during organogenesis',\n",
       " 'MP:0002458 abnormal B cell number',\n",
       " 'MP:0008504 abnormal adrenal chromaffin cell morphology',\n",
       " 'MP:0002929 abnormal bile duct development',\n",
       " 'MP:0000917 obstructive hydrocephaly',\n",
       " 'MP:0001423 abnormal liquid preference',\n",
       " 'MP:0008655 decreased interleukin-1 alpha secretion',\n",
       " 'MP:0001850 increased susceptibility to otitis media']"
      ]
     },
     "execution_count": 67,
     "metadata": {},
     "output_type": "execute_result"
    }
   ],
   "source": [
    "rank_genes(gene_list[6], gslib, gene_list, phenotypes, 10)"
   ]
  },
  {
   "cell_type": "code",
   "execution_count": null,
   "metadata": {},
   "outputs": [],
   "source": []
  }
 ],
 "metadata": {
  "kernelspec": {
   "display_name": "Python 3",
   "language": "python",
   "name": "python3"
  },
  "language_info": {
   "codemirror_mode": {
    "name": "ipython",
    "version": 3
   },
   "file_extension": ".py",
   "mimetype": "text/x-python",
   "name": "python",
   "nbconvert_exporter": "python",
   "pygments_lexer": "ipython3",
   "version": "3.6.5"
  }
 },
 "nbformat": 4,
 "nbformat_minor": 2
}

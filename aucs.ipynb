{
 "cells": [
  {
   "cell_type": "markdown",
   "metadata": {},
   "source": [
    "# Load data"
   ]
  },
  {
   "cell_type": "code",
   "execution_count": 1,
   "metadata": {},
   "outputs": [
    {
     "name": "stderr",
     "output_type": "stream",
     "text": [
      "/opt/apps/rhel7/Python-GPU-3.6.5/lib/python3.6/site-packages/h5py/__init__.py:36: FutureWarning: Conversion of the second argument of issubdtype from `float` to `np.floating` is deprecated. In future, it will be treated as `np.float64 == np.dtype(float).type`.\n",
      "  from ._conv import register_converters as _register_converters\n"
     ]
    }
   ],
   "source": [
    "import h5py"
   ]
  },
  {
   "cell_type": "code",
   "execution_count": 2,
   "metadata": {},
   "outputs": [],
   "source": [
    "gslib = h5py.File(\"gslib\", \"r\")"
   ]
  },
  {
   "cell_type": "code",
   "execution_count": 3,
   "metadata": {},
   "outputs": [],
   "source": [
    "tcga_mgi_gslib = gslib['TCGA-MGI']"
   ]
  },
  {
   "cell_type": "code",
   "execution_count": 4,
   "metadata": {},
   "outputs": [],
   "source": [
    "rna_level_predictions = h5py.File(\"rna_level_predictions.hdf5\", \"r\")\n",
    "rna_data = rna_level_predictions['data']\n",
    "rna_meta = rna_level_predictions['meta']"
   ]
  },
  {
   "cell_type": "code",
   "execution_count": 5,
   "metadata": {},
   "outputs": [],
   "source": [
    "go_bp_gslib = rna_data['go_bp_gslib']\n",
    "kegg_gslib = rna_data['kegg_human_gslib']\n",
    "mgi_gslib = rna_data['mgi_gslib']"
   ]
  },
  {
   "cell_type": "code",
   "execution_count": 6,
   "metadata": {},
   "outputs": [],
   "source": [
    "go_bp_genes = [ str(go[0])[2:-1] for go in rna_meta['go_bp_genes'] ]\n",
    "go_bp_pheno = [ str(gp[0])[2:-1] for gp in rna_meta['go_bp_phenotypes'] ]\n",
    "kegg_human_genes = [ str(k[0])[2:-1] for k in rna_meta['kegg_human_genes'] ]\n",
    "kegg_human_pheno = [ str(kp[0])[2:-1] for kp in rna_meta['kegg_human_phenotypes'] ] \n",
    "mgi_genes = [ str(m[0])[2:-1] for m in rna_meta['mgi_genes'] ]\n",
    "mgi_pheno = [ str(mp[0])[2:-1] for mp in rna_meta['mgi_phenotypes'] ]\n",
    "tcga_genes = [ str(g[0])[2:-1] for g in rna_meta['tcga_genes'] ]"
   ]
  },
  {
   "cell_type": "code",
   "execution_count": 7,
   "metadata": {},
   "outputs": [],
   "source": [
    "two_gslibs = h5py.File(\"two_gslibs.hdf5\", \"r\")"
   ]
  },
  {
   "cell_type": "code",
   "execution_count": 8,
   "metadata": {},
   "outputs": [],
   "source": [
    "tcga_go_bp_gslib = two_gslibs['tcga_GO_BP']\n",
    "tcga_kegg_gslib = two_gslibs['tcga_kegg_human_tcga']"
   ]
  },
  {
   "cell_type": "code",
   "execution_count": 9,
   "metadata": {},
   "outputs": [],
   "source": [
    "mgi = h5py.File(\"mpi.hdf5\", \"r\")"
   ]
  },
  {
   "cell_type": "markdown",
   "metadata": {},
   "source": [
    "# Get binary matrices"
   ]
  },
  {
   "cell_type": "code",
   "execution_count": 18,
   "metadata": {},
   "outputs": [],
   "source": [
    "from tqdm import trange\n",
    "import numpy as np\n",
    "import pandas as pd"
   ]
  },
  {
   "cell_type": "code",
   "execution_count": 19,
   "metadata": {},
   "outputs": [],
   "source": [
    "file_name = \"MGI_Mammalian_Phenotype_Level_4_2019.txt\""
   ]
  },
  {
   "cell_type": "code",
   "execution_count": 20,
   "metadata": {},
   "outputs": [],
   "source": [
    "d = {} \n",
    "with open(file_name) as file:\n",
    "    for line in file:\n",
    "        lst = line.strip().split(\"\\t\")\n",
    "        ph = lst[0]\n",
    "        lst = lst[2:]\n",
    "        d[ph] = lst"
   ]
  },
  {
   "cell_type": "code",
   "execution_count": 21,
   "metadata": {},
   "outputs": [],
   "source": [
    "gene_dict = {}\n",
    "for k,v in d.items(): \n",
    "    for gene in v: \n",
    "        if gene not in gene_dict: \n",
    "            gene_dict[gene] = []\n",
    "        gene_dict[gene].append(k)"
   ]
  },
  {
   "cell_type": "code",
   "execution_count": 22,
   "metadata": {},
   "outputs": [],
   "source": [
    "functions = list(d.keys())\n",
    "gslib_genes = list(gene_dict.keys())\n",
    "gene_set = np.zeros((len(gslib_genes), len(functions)))"
   ]
  },
  {
   "cell_type": "code",
   "execution_count": 23,
   "metadata": {},
   "outputs": [
    {
     "name": "stderr",
     "output_type": "stream",
     "text": [
      "100%|██████████| 13420/13420 [00:47<00:00, 283.95it/s]\n"
     ]
    }
   ],
   "source": [
    "for row in trange(len(gene_set)): \n",
    "    gene = gslib_genes[row] \n",
    "    for col in range(len(functions)):\n",
    "        f = functions[col]\n",
    "        if f in gene_dict[gene]: \n",
    "            gene_set[row][col] = 1"
   ]
  },
  {
   "cell_type": "code",
   "execution_count": 24,
   "metadata": {},
   "outputs": [],
   "source": [
    "binary_matrix = gene_set"
   ]
  },
  {
   "cell_type": "markdown",
   "metadata": {},
   "source": [
    "# Gather variables"
   ]
  },
  {
   "cell_type": "code",
   "execution_count": 44,
   "metadata": {},
   "outputs": [],
   "source": [
    "import pandas as pd\n",
    "import numpy as np\n",
    "from sklearn.metrics import roc_curve, roc_auc_score\n",
    "from scipy.stats import norm\n",
    "from matplotlib import pyplot"
   ]
  },
  {
   "cell_type": "code",
   "execution_count": 26,
   "metadata": {},
   "outputs": [],
   "source": [
    "common_genes = list(set(tcga_genes) & set(mgi_genes))"
   ]
  },
  {
   "cell_type": "code",
   "execution_count": 27,
   "metadata": {},
   "outputs": [],
   "source": [
    "mgi_gslib = pd.DataFrame(mgi_gslib)"
   ]
  },
  {
   "cell_type": "code",
   "execution_count": 28,
   "metadata": {},
   "outputs": [],
   "source": [
    "len(common_genes)\n",
    "gene1 = common_genes[-1]"
   ]
  },
  {
   "cell_type": "code",
   "execution_count": 29,
   "metadata": {},
   "outputs": [],
   "source": [
    "tcga_idx = np.where(np.transpose(tcga_genes) == gene1)[0][0]\n",
    "mgi_idx = np.where(np.transpose(mgi_genes) == gene1)[0][0]\n",
    "row1 = mgi_gslib.loc[mgi_idx]"
   ]
  },
  {
   "cell_type": "code",
   "execution_count": 30,
   "metadata": {},
   "outputs": [],
   "source": [
    "y_true = binary_matrix[mgi_idx]"
   ]
  },
  {
   "cell_type": "code",
   "execution_count": 31,
   "metadata": {},
   "outputs": [],
   "source": [
    "y_probs = tcga_mgi_gslib[tcga_idx]"
   ]
  },
  {
   "cell_type": "code",
   "execution_count": 32,
   "metadata": {},
   "outputs": [],
   "source": [
    "# calculate roc curve\n",
    "fpr, tpr, thresholds = roc_curve(y_true, y_probs)"
   ]
  },
  {
   "cell_type": "code",
   "execution_count": 33,
   "metadata": {},
   "outputs": [
    {
     "name": "stdout",
     "output_type": "stream",
     "text": [
      "AUC: 0.699\n"
     ]
    }
   ],
   "source": [
    "# calculate AUC\n",
    "auc = roc_auc_score(y_true, y_probs)\n",
    "print('AUC: %.3f' % auc)"
   ]
  },
  {
   "cell_type": "code",
   "execution_count": 39,
   "metadata": {},
   "outputs": [],
   "source": [
    "auc_list = []\n",
    "for g in common_genes: \n",
    "    tcga_idx = np.where(np.transpose(tcga_genes) == g)[0][0]\n",
    "    mgi_idx = np.where(np.transpose(mgi_genes) == g)[0][0]\n",
    "    row1 = mgi_gslib.loc[mgi_idx]\n",
    "    y_true = binary_matrix[mgi_idx]\n",
    "    y_probs = row1\n",
    "#     y_probs = tcga_mgi_gslib[tcga_idx]\n",
    "    # calculate AUC\n",
    "    auc = roc_auc_score(y_true, y_probs)\n",
    "    auc_list.append(auc)"
   ]
  },
  {
   "cell_type": "code",
   "execution_count": 40,
   "metadata": {},
   "outputs": [
    {
     "data": {
      "text/plain": [
       "0.5762377049896732"
      ]
     },
     "execution_count": 40,
     "metadata": {},
     "output_type": "execute_result"
    }
   ],
   "source": [
    "np.mean(auc_list)"
   ]
  },
  {
   "cell_type": "code",
   "execution_count": 46,
   "metadata": {},
   "outputs": [
    {
     "data": {
      "image/png": "[encoded data removed]",
      "text/plain": [
       "<matplotlib.figure.Figure at 0x7fdbe4fcb898>"
      ]
     },
     "metadata": {},
     "output_type": "display_data"
    }
   ],
   "source": [
    "m = np.mean(auc_list)\n",
    "sd = np.std(auc_list)\n",
    "pdf = norm.pdf(auc_list, m, sd)\n",
    "pyplot.plot(auc_list, pdf)\n",
    "pyplot.show()"
   ]
  },
  {
   "cell_type": "code",
   "execution_count": null,
   "metadata": {},
   "outputs": [],
   "source": []
  }
 ],
 "metadata": {
  "kernelspec": {
   "display_name": "Python 3",
   "language": "python",
   "name": "python3"
  },
  "language_info": {
   "codemirror_mode": {
    "name": "ipython",
    "version": 3
   },
   "file_extension": ".py",
   "mimetype": "text/x-python",
   "name": "python",
   "nbconvert_exporter": "python",
   "pygments_lexer": "ipython3",
   "version": "3.6.5"
  }
 },
 "nbformat": 4,
 "nbformat_minor": 2
}

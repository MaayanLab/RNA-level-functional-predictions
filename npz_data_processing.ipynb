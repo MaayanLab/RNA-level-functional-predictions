{
 "cells": [
  {
   "cell_type": "code",
   "execution_count": 28,
   "metadata": {},
   "outputs": [],
   "source": [
    "import numpy as np\n",
    "import pandas as pd\n",
    "from tqdm import trange"
   ]
  },
  {
   "cell_type": "markdown",
   "metadata": {},
   "source": [
    "# Load 2020 MPI data"
   ]
  },
  {
   "cell_type": "code",
   "execution_count": 20,
   "metadata": {},
   "outputs": [],
   "source": [
    "bi = np.load(\"mgi_binary_matrix_2020_06.npz\", allow_pickle=True)"
   ]
  },
  {
   "cell_type": "code",
   "execution_count": 21,
   "metadata": {},
   "outputs": [],
   "source": [
    "ns = bi['nonsymmetric']\n",
    "idx = bi['index']\n",
    "col = bi['columns']"
   ]
  },
  {
   "cell_type": "code",
   "execution_count": 22,
   "metadata": {},
   "outputs": [],
   "source": [
    "df = pd.DataFrame(ns)"
   ]
  },
  {
   "cell_type": "markdown",
   "metadata": {},
   "source": [
    "\n",
    "# Preprocessing "
   ]
  },
  {
   "cell_type": "markdown",
   "metadata": {},
   "source": [
    "Attributes_to_genes contains the indices of genes associated with each condition or function."
   ]
  },
  {
   "cell_type": "code",
   "execution_count": 29,
   "metadata": {},
   "outputs": [
    {
     "name": "stderr",
     "output_type": "stream",
     "text": [
      "100%|██████████| 9619/9619 [00:08<00:00, 1179.64it/s]\n"
     ]
    }
   ],
   "source": [
    "attributes_to_genes = {}\n",
    "for i in trange(len(col)):\n",
    "    row = df.iloc[:, i]\n",
    "    genes = np.where(row == 1)\n",
    "    attributes_to_genes[i] = genes"
   ]
  },
  {
   "cell_type": "markdown",
   "metadata": {},
   "source": [
    "# Similarity matrix"
   ]
  },
  {
   "cell_type": "markdown",
   "metadata": {},
   "source": [
    "Start by getting the correlation matrix so that the average correlation for each gene for each set is easier to compute, by just taking the average of the rest of the correlations found associated with the given set."
   ]
  },
  {
   "cell_type": "code",
   "execution_count": 31,
   "metadata": {},
   "outputs": [],
   "source": [
    "cor = np.corrcoef(df)"
   ]
  },
  {
   "cell_type": "code",
   "execution_count": 32,
   "metadata": {},
   "outputs": [],
   "source": [
    "# Initialize similarity matrix \n",
    "sim = np.zeros((len(idx), len(col)))"
   ]
  },
  {
   "cell_type": "code",
   "execution_count": 33,
   "metadata": {},
   "outputs": [],
   "source": [
    "# Convert to Pandas DataFrame to easily use \n",
    "# .iloc function, which allows row selection\n",
    "cor = pd.DataFrame(cor)"
   ]
  },
  {
   "cell_type": "code",
   "execution_count": 41,
   "metadata": {},
   "outputs": [
    {
     "name": "stderr",
     "output_type": "stream",
     "text": [
      "100%|██████████| 9619/9619 [00:43<00:00, 218.88it/s]\n"
     ]
    }
   ],
   "source": [
    "for j in trange(len(col)):\n",
    "    indices = attributes_to_genes[j][0]\n",
    "    n = len(indices)-1\n",
    "    if n == 0: continue\n",
    "    temp = cor.iloc[indices]\n",
    "    for i in range(len(indices)):\n",
    "        gene_idx = indices[i]\n",
    "        gene_cor = temp.iloc[:,i]\n",
    "        sim[gene_idx][j] = (sum(gene_cor)-1)/n"
   ]
  },
  {
   "cell_type": "markdown",
   "metadata": {},
   "source": [
    "Check if any row sums to 0. If there is, then there is probably something wrong, because each gene is associated with at least one function."
   ]
  },
  {
   "cell_type": "code",
   "execution_count": 73,
   "metadata": {},
   "outputs": [
    {
     "name": "stdout",
     "output_type": "stream",
     "text": [
      "[0. 0. 0. ... 0. 0. 0.]\n",
      "[0. 0. 0. ... 0. 0. 0.]\n",
      "[0. 0. 0. ... 0. 0. 0.]\n",
      "[0. 0. 0. ... 0. 0. 0.]\n"
     ]
    }
   ],
   "source": [
    "for row in sim:\n",
    "    if sum(row) == 0:\n",
    "        print(row)"
   ]
  },
  {
   "cell_type": "code",
   "execution_count": 83,
   "metadata": {},
   "outputs": [],
   "source": [
    "d = {} \n",
    "with open(\"MGI_Mammalian_Phenotype_Level_4_2019.txt\") as f:\n",
    "    for line in f:\n",
    "        lst = line.split(\"\\t\")\n",
    "        ph = \" \".join(lst[0].split()[1:])\n",
    "        lst = lst[2:-1]\n",
    "        d[ph] = lst"
   ]
  },
  {
   "cell_type": "code",
   "execution_count": 84,
   "metadata": {},
   "outputs": [],
   "source": [
    "gene_dict = {}\n",
    "for k,v in d.items(): \n",
    "    for gene in v: \n",
    "        if gene not in gene_dict: \n",
    "            gene_dict[gene] = []\n",
    "        gene_dict[gene].append(k)"
   ]
  },
  {
   "cell_type": "code",
   "execution_count": 86,
   "metadata": {},
   "outputs": [],
   "source": [
    "gene_list = list(gene_dict.keys())"
   ]
  },
  {
   "cell_type": "code",
   "execution_count": 87,
   "metadata": {},
   "outputs": [
    {
     "data": {
      "text/plain": [
       "array(['0610010K14Rik', '1110017D15Rik', '1600029I14Rik', ..., 'Zzef1',\n",
       "       'a', 'mt-Rnr2'], dtype=object)"
      ]
     },
     "execution_count": 87,
     "metadata": {},
     "output_type": "execute_result"
    }
   ],
   "source": [
    "idx"
   ]
  },
  {
   "cell_type": "code",
   "execution_count": 89,
   "metadata": {},
   "outputs": [
    {
     "data": {
      "text/plain": [
       "set()"
      ]
     },
     "execution_count": 89,
     "metadata": {},
     "output_type": "execute_result"
    }
   ],
   "source": [
    "aset = set(col)\n",
    "bset = set(gene_list)\n",
    "cset = aset.intersection(bset)\n",
    "cset"
   ]
  },
  {
   "cell_type": "code",
   "execution_count": 93,
   "metadata": {},
   "outputs": [
    {
     "name": "stderr",
     "output_type": "stream",
     "text": [
      "/opt/apps/rhel7/Python-GPU-3.6.5/lib/python3.6/site-packages/h5py/__init__.py:36: FutureWarning: Conversion of the second argument of issubdtype from `float` to `np.floating` is deprecated. In future, it will be treated as `np.float64 == np.dtype(float).type`.\n",
      "  from ._conv import register_converters as _register_converters\n"
     ]
    }
   ],
   "source": [
    "import h5py\n",
    "f = h5py.File(\"tcga.hdf5\", \"r+\")"
   ]
  },
  {
   "cell_type": "code",
   "execution_count": 115,
   "metadata": {},
   "outputs": [],
   "source": [
    "g = np.transpose(np.array(f['meta']['genes'])).tolist()[0]"
   ]
  },
  {
   "cell_type": "code",
   "execution_count": 121,
   "metadata": {},
   "outputs": [],
   "source": [
    "gene_arr = []\n",
    "for s in g:\n",
    "    gene_arr.append(str(s)[2:-1])"
   ]
  },
  {
   "cell_type": "code",
   "execution_count": 126,
   "metadata": {},
   "outputs": [],
   "source": [
    "seta = set(col)\n",
    "setb = set(gene_arr)\n",
    "setc = set(gene_list)\n",
    "setd = setb.intersection(setc)"
   ]
  },
  {
   "cell_type": "code",
   "execution_count": 127,
   "metadata": {},
   "outputs": [
    {
     "data": {
      "text/plain": [
       "10015"
      ]
     },
     "execution_count": 127,
     "metadata": {},
     "output_type": "execute_result"
    }
   ],
   "source": [
    "len(setd)"
   ]
  },
  {
   "cell_type": "code",
   "execution_count": 131,
   "metadata": {},
   "outputs": [
    {
     "name": "stdout",
     "output_type": "stream",
     "text": [
      "13420\n",
      "38550\n"
     ]
    }
   ],
   "source": [
    "print(len(setc))\n",
    "print(len(setb))"
   ]
  },
  {
   "cell_type": "code",
   "execution_count": null,
   "metadata": {},
   "outputs": [],
   "source": []
  }
 ],
 "metadata": {
  "kernelspec": {
   "display_name": "Python 3",
   "language": "python",
   "name": "python3"
  },
  "language_info": {
   "codemirror_mode": {
    "name": "ipython",
    "version": 3
   },
   "file_extension": ".py",
   "mimetype": "text/x-python",
   "name": "python",
   "nbconvert_exporter": "python",
   "pygments_lexer": "ipython3",
   "version": "3.6.5"
  }
 },
 "nbformat": 4,
 "nbformat_minor": 2
}

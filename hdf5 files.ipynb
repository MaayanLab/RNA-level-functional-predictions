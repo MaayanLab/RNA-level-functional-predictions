{
 "cells": [
  {
   "cell_type": "code",
   "execution_count": 1,
   "metadata": {},
   "outputs": [],
   "source": [
    "import h5py\n",
    "import numpy as np\n",
    "import pandas as pd\n",
    "from pathlib import Path\n",
    "from hdf5_ids import obtain_sample_ids"
   ]
  },
  {
   "cell_type": "code",
   "execution_count": 48,
   "metadata": {},
   "outputs": [],
   "source": [
    "# The following code is to create hdf5 files to store RNA-seq data (or open previously created file). \n",
    "f = h5py.File('data.hdf5', 'a')\n",
    "# f = h5py.File(\"data.hdf5\", 'r+')"
   ]
  },
  {
   "cell_type": "code",
   "execution_count": 49,
   "metadata": {},
   "outputs": [],
   "source": [
    "# Create groups (dictionaries) called data and meta (or open them). \n",
    "data = f.create_group(\"data\") \n",
    "meta = f.create_group(\"meta\")\n",
    "# data = f['data']\n",
    "# meta = f['meta']"
   ]
  },
  {
   "cell_type": "code",
   "execution_count": 50,
   "metadata": {},
   "outputs": [],
   "source": [
    "df = pd.read_csv(\"data/larger_files/Glioblastoma/data.csv\")\n",
    "df_symbols = df[['symbol']]"
   ]
  },
  {
   "cell_type": "code",
   "execution_count": 2,
   "metadata": {},
   "outputs": [],
   "source": [
    "# Create list of the diseases with >150 cases \n",
    "pathlist = Path(\"data/larger_files\").glob('*')\n",
    "list_cancers = []\n",
    "for path in pathlist:\n",
    "    cancer = str(path).split(\"/\")[2]\n",
    "    if cancer != \".DS_Store\":\n",
    "        list_cancers.append(cancer)"
   ]
  },
  {
   "cell_type": "code",
   "execution_count": 52,
   "metadata": {},
   "outputs": [
    {
     "name": "stdout",
     "output_type": "stream",
     "text": [
      "There are 7641 total cases\n"
     ]
    }
   ],
   "source": [
    "# count the number of cases for each cancer by counting number of columns minus the symbol and type of gene\n",
    "total_cases = 0\n",
    "for cancer in list_cancers:\n",
    "    df = pd.read_csv(f'data/larger_files/{cancer}/data.csv')\n",
    "    total_cases += len(df.columns[1:-1])\n",
    "print(\"There are {} total cases\".format(total_cases))"
   ]
  },
  {
   "cell_type": "code",
   "execution_count": 53,
   "metadata": {},
   "outputs": [
    {
     "name": "stdout",
     "output_type": "stream",
     "text": [
      "There are 60483 cases, 7641 genes and 14 cancers\n"
     ]
    }
   ],
   "source": [
    "# create an array in which each element is a vector of a single case's RNA-seq counts\n",
    "case_vectors = np.empty((total_cases, len(df_symbols)))\n",
    "cancer_order = []\n",
    "case_count = 0\n",
    "for cancer in list_cancers:\n",
    "    cancer_order.append(cancer)\n",
    "    df = pd.read_csv(f'data/larger_files/{cancer}/data.csv')\n",
    "    df_cols = df.columns[1:-1]\n",
    "    np_cols = list(range(case_count, case_count+len(df_cols)))\n",
    "    case_vectors[np_cols,:] = df[df_cols].T\n",
    "    case_count += len(df_cols)\n",
    "print(\"There are {} cases, {} genes and {} cancers\".format(np.shape(case_vectors)[1], np.shape(case_vectors)[0], len(cancer_order)))"
   ]
  },
  {
   "cell_type": "code",
   "execution_count": 54,
   "metadata": {},
   "outputs": [],
   "source": [
    "# create data entry (dataset) that is the vector of RNA-seq vectors\n",
    "data_expression = data.create_dataset(\"expression\", data=case_vectors)"
   ]
  },
  {
   "cell_type": "code",
   "execution_count": 62,
   "metadata": {},
   "outputs": [],
   "source": [
    "# meta entry that is the vector of gene symbols \n",
    "list_symbols = df_symbols.values.astype(\"S\").tolist()\n",
    "meta_genes = meta.create_dataset(\"genes\", data=list_symbols)"
   ]
  },
  {
   "cell_type": "code",
   "execution_count": 4,
   "metadata": {},
   "outputs": [
    {
     "name": "stderr",
     "output_type": "stream",
     "text": [
      "/Users/christineyoon/OneDrive/RNA-level-functional-predictions/hdf5_ids.py:90: DtypeWarning: Columns (14) have mixed types.Specify dtype option on import or set low_memory=False.\n",
      "  ensembl_id_list = obtain_ensembl_ids(cancer_type, case_uuid_list, file_uuid_list)\n"
     ]
    }
   ],
   "source": [
    "# obtain ensembl ids by first going through files of random cancer (with few cases)\n",
    "# create dataset that is ensembl ids in order \n",
    "sample_id_list, ensembl_id_list = obtain_sample_ids('Nodular melanoma', ensembl = True)\n",
    "meta_ensembl_ids = meta.create_dataset(\"ensembl_id\", data=ensembl_id_list)"
   ]
  },
  {
   "cell_type": "code",
   "execution_count": 6,
   "metadata": {},
   "outputs": [],
   "source": [
    "# obtain sample ids by going through the list of cancers\n",
    "# create dataset that is sample ids in order \n",
    "sample_ids = []\n",
    "for cancer_type in list_cancers:\n",
    "    sample_id_list = obtain_sample_ids(cancer_type)\n",
    "    sample_ids += sample_id_list\n",
    "sample_ids = (pd.DataFrame(sample_ids)).values.astype(\"S\").tolist()\n",
    "meta_sample_ids = meta.create_dataset(\"sample_id\", data=sample_ids)"
   ]
  },
  {
   "cell_type": "code",
   "execution_count": 16,
   "metadata": {},
   "outputs": [],
   "source": []
  },
  {
   "cell_type": "code",
   "execution_count": null,
   "metadata": {},
   "outputs": [],
   "source": []
  },
  {
   "cell_type": "code",
   "execution_count": null,
   "metadata": {},
   "outputs": [],
   "source": []
  }
 ],
 "metadata": {
  "kernelspec": {
   "display_name": "Python 3",
   "language": "python",
   "name": "python3"
  },
  "language_info": {
   "codemirror_mode": {
    "name": "ipython",
    "version": 3
   },
   "file_extension": ".py",
   "mimetype": "text/x-python",
   "name": "python",
   "nbconvert_exporter": "python",
   "pygments_lexer": "ipython3",
   "version": "3.8.3"
  }
 },
 "nbformat": 4,
 "nbformat_minor": 4
}

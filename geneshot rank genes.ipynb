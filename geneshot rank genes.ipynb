{
 "cells": [
  {
   "cell_type": "code",
   "execution_count": 8,
   "metadata": {},
   "outputs": [],
   "source": [
    "import h5py \n",
    "import pandas as pd \n",
    "import numpy as np\n",
    "import json\n",
    "import requests\n",
    "from scipy.stats import pearsonr"
   ]
  },
  {
   "cell_type": "code",
   "execution_count": 21,
   "metadata": {},
   "outputs": [],
   "source": [
    "fi = h5py.File(\"tcga.hdf5\", \"r\")\n",
    "f = h5py.File(\"auc_data.hdf5\", \"r\")\n",
    "curr_name = \"go_bp_\"\n",
    "data = f['data']\n",
    "meta = f['meta']\n",
    "gslib = data['tcga_' + curr_name + 'gslib']\n",
    "curr_genes = np.array([ str(g[0])[2:-1] for g in meta[curr_name + 'genes'] ])\n",
    "tcga_genes = np.array([ str(g[0])[2:-1] for g in meta['tcga_genes'] ])\n",
    "curr_pheno = np.array([ str(p[0])[2:-1] for p in meta[curr_name + 'pheno'] ])\n",
    "curr_gslib = data[curr_name + 'gslib']\n",
    "binary_matrix = data[curr_name + \"bin_mat\"]\n",
    "cor = fi['full correlation matrix']\n",
    "tcga_genes = np.array([str(g[0])[2:-1] for g in fi['meta']['genes']])\n",
    "# gene_correlations1(tcga_genes, cor)"
   ]
  },
  {
   "cell_type": "code",
   "execution_count": 24,
   "metadata": {},
   "outputs": [],
   "source": [
    "def rank_associations(cor, gene, gene_list, pheno_list, rank):\n",
    "    i = np.where(gene_list == gene)[0][0]\n",
    "    row = cor[i]\n",
    "    tups = list(dict(zip(range(len(row)), row)).items())\n",
    "    tups.sort(key = lambda t: t[1], reverse = True)\n",
    "    top_genes = [ gene_list[t[0]] for t in tups[: rank] ]\n",
    "    top_pheno = [ pheno_list[t[0]] for t in tups[: rank] ]\n",
    "    return top_pheno"
   ]
  },
  {
   "cell_type": "code",
   "execution_count": 19,
   "metadata": {},
   "outputs": [],
   "source": [
    "def geneshot(gene): \n",
    "    GENESHOT_URL = 'http://amp.pharm.mssm.edu/geneshot/api'\n",
    "    query_string = '/associate/%s/%s'\n",
    "    similarity_matrix = 'enrichr'\n",
    "    gene_symbols = ','.join([gene])\n",
    "    response = requests.get(GENESHOT_URL + query_string % (similarity_matrix, gene_symbols))\n",
    "    data = json.loads(response.text)\n",
    "    data = list(data['association'].items())\n",
    "    if data[0][1]['topGenes'][0] == 'null': return None \n",
    "    return [ (t[0], t[1]['simScore']) for t in data ]"
   ]
  },
  {
   "cell_type": "code",
   "execution_count": 16,
   "metadata": {},
   "outputs": [],
   "source": [
    "def gene_correlations(gene_list, cor):\n",
    "    correlations = []\n",
    "    for gene in gene_list:\n",
    "        geneshot_data = geneshot(gene)\n",
    "        if geneshot_data: \n",
    "            geneshot_genes = [ tup[0] for tup in geneshot_data ]\n",
    "            ranked_geneshot = [ (i, geneshot_genes[i]) for i in range(len(geneshot_genes)) ]\n",
    "            tcga_list = rank_associations(cor, gene, gene_list, len(gene_list))\n",
    "            tcga_rank = [ (i, tcga_list[i]) for i in range(len(gene_list)) ]\n",
    "            common_genes = list(set(gene_list) & set(geneshot_genes))\n",
    "            filtered_geneshot = sorted([ tup for tup in ranked_geneshot if tup[1] in common_genes ], key=lambda t:t[1])\n",
    "            filtered_tcga = sorted([ tup for tup in tcga_rank if tup[1] in common_genes ], key=lambda t:t[1])\n",
    "            geneshot_indices = [ tup[0] for tup in filtered_geneshot ]\n",
    "            tcga_indices = [ tup[0] for tup in filtered_tcga ]\n",
    "            corr, _ = pearsonr(geneshot_indices, tcga_indices)\n",
    "            correlations.append(abs(corr))\n",
    "    print(np.mean(correlations))"
   ]
  },
  {
   "cell_type": "code",
   "execution_count": 17,
   "metadata": {},
   "outputs": [],
   "source": [
    "def gene_correlations1(gene_list, cor): \n",
    "    correlations = []\n",
    "    count = 0\n",
    "    for gene in gene_list:\n",
    "        geneshot_data = geneshot(gene)\n",
    "        if geneshot_data: \n",
    "            geneshot_genes = [ tup[0] for tup in geneshot_data ]\n",
    "            tcga_list = rank_associations(cor, gene, gene_list, len(gene_list))\n",
    "            common_genes = list(set(gene_list) & set(geneshot_genes))\n",
    "            filtered_geneshot = [ g for g in geneshot_genes if g in common_genes ]\n",
    "            filtered_tcga = [ g for g in tcga_list if g in common_genes ]\n",
    "            geneshot_indices = sorted([ (i, filtered_geneshot[i]) for i in range(len(filtered_geneshot)) ], key=lambda t:t[1] )\n",
    "            tcga_indices = sorted([ (i, filtered_tcga[i]) for i in range(len(filtered_tcga)) ], key=lambda t:t[1])\n",
    "            geneshot_indices = [ tup[0] for tup in geneshot_indices ]\n",
    "            tcga_indices = [ tup[0] for tup in tcga_indices ]\n",
    "            corr, _ = pearsonr(geneshot_indices, tcga_indices)\n",
    "            correlations.append(abs(corr))\n",
    "    print(np.mean(correlations))"
   ]
  },
  {
   "cell_type": "code",
   "execution_count": 20,
   "metadata": {
    "scrolled": true
   },
   "outputs": [],
   "source": [
    "# workflow()"
   ]
  },
  {
   "cell_type": "code",
   "execution_count": 27,
   "metadata": {},
   "outputs": [
    {
     "data": {
      "text/plain": [
       "['regulation of DNA-directed DNA polymerase activity (GO:1900262)',\n",
       " 'positive regulation of DNA-directed DNA polymerase activity (GO:1900264)',\n",
       " 'strand invasion (GO:0042148)',\n",
       " 'replication fork protection (GO:0048478)',\n",
       " \"mRNA 3'-splice site recognition (GO:0000389)\",\n",
       " 'CENP-A containing nucleosome assembly (GO:0034080)',\n",
       " 'CENP-A containing chromatin organization (GO:0061641)',\n",
       " 'chromatin remodeling at centromere (GO:0031055)',\n",
       " 'G-quadruplex DNA unwinding (GO:0044806)',\n",
       " 'centromere complex assembly (GO:0034508)']"
      ]
     },
     "execution_count": 27,
     "metadata": {},
     "output_type": "execute_result"
    }
   ],
   "source": [
    "rank_associations(gslib, 'KLF1', tcga_genes, curr_pheno, 10)"
   ]
  },
  {
   "cell_type": "code",
   "execution_count": null,
   "metadata": {},
   "outputs": [],
   "source": []
  },
  {
   "cell_type": "code",
   "execution_count": null,
   "metadata": {},
   "outputs": [],
   "source": []
  },
  {
   "cell_type": "code",
   "execution_count": null,
   "metadata": {},
   "outputs": [],
   "source": []
  },
  {
   "cell_type": "code",
   "execution_count": null,
   "metadata": {},
   "outputs": [],
   "source": []
  }
 ],
 "metadata": {
  "kernelspec": {
   "display_name": "Python 3",
   "language": "python",
   "name": "python3"
  },
  "language_info": {
   "codemirror_mode": {
    "name": "ipython",
    "version": 3
   },
   "file_extension": ".py",
   "mimetype": "text/x-python",
   "name": "python",
   "nbconvert_exporter": "python",
   "pygments_lexer": "ipython3",
   "version": "3.6.5"
  }
 },
 "nbformat": 4,
 "nbformat_minor": 2
}
